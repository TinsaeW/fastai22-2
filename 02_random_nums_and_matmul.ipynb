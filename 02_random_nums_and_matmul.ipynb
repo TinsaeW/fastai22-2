{
  "nbformat": 4,
  "nbformat_minor": 0,
  "metadata": {
    "colab": {
      "provenance": [],
      "collapsed_sections": [
        "a7ebjQOppfuB"
      ]
    },
    "kernelspec": {
      "name": "python3",
      "display_name": "Python 3"
    },
    "language_info": {
      "name": "python"
    }
  },
  "cells": [
    {
      "cell_type": "code",
      "execution_count": 9,
      "metadata": {
        "id": "qcNNEMGloeZ5"
      },
      "outputs": [],
      "source": [
        "from pathlib import Path\n",
        "import torch, pickle, gzip, math, os, time, shutil,matplotlib as mpl, matplotlib.pyplot as plt"
      ]
    },
    {
      "cell_type": "markdown",
      "source": [
        "#Get data"
      ],
      "metadata": {
        "id": "wGZy6JjjW3T7"
      }
    },
    {
      "cell_type": "code",
      "source": [
        "BASE_URL = \"http://fashion-mnist.s3-website.eu-central-1.amazonaws.com/\"\n",
        "\n",
        "TRAINING_IMAGES = \"train-images-idx3-ubyte.gz\"\n",
        "TRAINING_LABELS = \"train-labels-idx1-ubyte.gz\"\n",
        "TEST_IMAGES = \"t10k-images-idx3-ubyte.gz\"\n",
        "TEST_LABELS = \"t10k-labels-idx1-ubyte.gz\""
      ],
      "metadata": {
        "id": "mgwEHwjPW1Rw"
      },
      "execution_count": 13,
      "outputs": []
    },
    {
      "cell_type": "code",
      "source": [
        "PATH_DATA = Path(\"data\")\n",
        "PATH_DATA.mkdir(exist_ok=True)\n",
        "\n",
        "\n",
        "training_images_path = PATH_DATA/TRAINING_IMAGES\n",
        "training_labels_path = PATH_DATA/TRAINING_LABELS\n",
        "test_images_path = PATH_DATA/TEST_IMAGES\n",
        "test_labels_path = PATH_DATA/TEST_LABELS"
      ],
      "metadata": {
        "id": "2ARXOKTuXJgr"
      },
      "execution_count": 14,
      "outputs": []
    },
    {
      "cell_type": "code",
      "source": [
        "from urllib.request import urlretrieve"
      ],
      "metadata": {
        "id": "MCObikjHXNSW"
      },
      "execution_count": 15,
      "outputs": []
    },
    {
      "cell_type": "code",
      "source": [
        "if not training_images_path.exists():\n",
        "  urlretrieve(BASE_URL+TRAINING_IMAGES, training_images_path)\n",
        "if not training_labels_path.exists():\n",
        "  urlretrieve(BASE_URL+TRAINING_LABELS, training_labels_path)\n",
        "if not test_images_path.exists():\n",
        "  urlretrieve(BASE_URL+TEST_IMAGES, test_images_path)\n",
        "if not test_labels_path.exists():\n",
        "  urlretrieve(BASE_URL+TEST_LABELS, test_labels_path)"
      ],
      "metadata": {
        "id": "it4h9DjxXxHS"
      },
      "execution_count": 16,
      "outputs": []
    },
    {
      "cell_type": "code",
      "source": [
        "import struct\n",
        "import array\n",
        "def parse_idx(path):\n",
        "  with gzip.open(path, 'rb') as f:\n",
        "    header = f.read(4)\n",
        "    \n",
        "    zeros, data_type, num_dimensions = struct.unpack('>HBB', header)\n",
        "    dimension_sizes = struct.unpack('>' + 'I' * num_dimensions, f.read(4 * num_dimensions))\n",
        "    \n",
        "\n",
        "    data = array.array('B', f.read())\n",
        "    data.byteswap()  # looks like array.array reads data as little endian\n",
        "\n",
        "  return list(data)\n",
        "\n",
        "def chunks(x, size):\n",
        "    for i in range(0, len(x), size): \n",
        "        yield x[i:i + size]"
      ],
      "metadata": {
        "id": "aquVczd-X4gg"
      },
      "execution_count": 17,
      "outputs": []
    },
    {
      "cell_type": "code",
      "source": [
        "x_train = list(chunks(parse_idx(training_images_path),784))\n",
        "y_train = parse_idx(training_labels_path)\n",
        "\n",
        "x_test = list(chunks(parse_idx(test_images_path),784))\n",
        "y_test = parse_idx(test_labels_path)\n",
        "\n",
        "print((len(x_train), len(x_train[0])))\n",
        "print(len(y_train))\n",
        "\n",
        "print((len(x_test), len(x_test[0])))\n",
        "print(len(y_test))"
      ],
      "metadata": {
        "colab": {
          "base_uri": "https://localhost:8080/"
        },
        "id": "2LI06MyoYFVp",
        "outputId": "151de343-be82-4f5d-b967-3425db581714"
      },
      "execution_count": 19,
      "outputs": [
        {
          "output_type": "stream",
          "name": "stdout",
          "text": [
            "(60000, 784)\n",
            "60000\n",
            "(10000, 784)\n",
            "10000\n"
          ]
        }
      ]
    },
    {
      "cell_type": "code",
      "source": [
        "from torch import tensor"
      ],
      "metadata": {
        "id": "j8LxriSyZuZK"
      },
      "execution_count": 20,
      "outputs": []
    },
    {
      "cell_type": "code",
      "source": [
        "x_train, y_train, x_test, y_test = map(lambda x: tensor(x, dtype=torch.float), (x_train, y_train, x_test, y_test))"
      ],
      "metadata": {
        "colab": {
          "base_uri": "https://localhost:8080/"
        },
        "id": "aw172jT9Zrh-",
        "outputId": "26829cfe-2082-4607-d8af-c1d50e4c45cc"
      },
      "execution_count": 96,
      "outputs": [
        {
          "output_type": "stream",
          "name": "stderr",
          "text": [
            "/usr/local/lib/python3.7/dist-packages/ipykernel_launcher.py:1: UserWarning: To copy construct from a tensor, it is recommended to use sourceTensor.clone().detach() or sourceTensor.clone().detach().requires_grad_(True), rather than torch.tensor(sourceTensor).\n",
            "  \"\"\"Entry point for launching an IPython kernel.\n"
          ]
        }
      ]
    },
    {
      "cell_type": "code",
      "source": [
        "x_train.type()"
      ],
      "metadata": {
        "colab": {
          "base_uri": "https://localhost:8080/",
          "height": 36
        },
        "id": "bRDZfpCuoXWH",
        "outputId": "f011c3b8-d1f1-4be0-a838-05b7e74aabb8"
      },
      "execution_count": 98,
      "outputs": [
        {
          "output_type": "execute_result",
          "data": {
            "text/plain": [
              "'torch.FloatTensor'"
            ],
            "application/vnd.google.colaboratory.intrinsic+json": {
              "type": "string"
            }
          },
          "metadata": {},
          "execution_count": 98
        }
      ]
    },
    {
      "cell_type": "code",
      "source": [
        "def func1(a):\n",
        "    return a**2\n",
        "\n",
        "lst = [1, 2, 3]\n",
        "print(list(map(func1, lst)))\n",
        "#print(map(func1(x=4, y=3), lst))"
      ],
      "metadata": {
        "colab": {
          "base_uri": "https://localhost:8080/"
        },
        "id": "6a39ib0mkn2r",
        "outputId": "5bbba231-1ef5-4ce5-ad78-c5bb62b3dae1"
      },
      "execution_count": 94,
      "outputs": [
        {
          "output_type": "stream",
          "name": "stdout",
          "text": [
            "[1, 4, 9]\n"
          ]
        }
      ]
    },
    {
      "cell_type": "markdown",
      "source": [
        "# Random nubers"
      ],
      "metadata": {
        "id": "a7ebjQOppfuB"
      }
    },
    {
      "cell_type": "markdown",
      "source": [
        "Based on the Wichmann Hill algorithm used before Python 2.3."
      ],
      "metadata": {
        "id": "9t7G8EnypqpR"
      }
    },
    {
      "cell_type": "code",
      "source": [
        "rnd_state = None\n",
        "def seed(a):\n",
        "  global rnd_state\n",
        "  a, x = divmod(a, 30268)\n",
        "  a, y = divmod(a, 30306)\n",
        "  a, z = divmod(a, 30322)\n",
        "  rnd_state = int(x)+1, int(y)+1, int(z)+1"
      ],
      "metadata": {
        "id": "9355-CaxpeKY"
      },
      "execution_count": null,
      "outputs": []
    },
    {
      "cell_type": "code",
      "source": [
        "seed(457428938475)\n",
        "rnd_state"
      ],
      "metadata": {
        "colab": {
          "base_uri": "https://localhost:8080/"
        },
        "id": "_xpTWT2CsuLo",
        "outputId": "edd4dcdc-564c-4dd7-be35-c7ddc7595acb"
      },
      "execution_count": null,
      "outputs": [
        {
          "output_type": "execute_result",
          "data": {
            "text/plain": [
              "(4976, 20238, 499)"
            ]
          },
          "metadata": {},
          "execution_count": 17
        }
      ]
    },
    {
      "cell_type": "code",
      "source": [
        "def rand():\n",
        "  global rnd_state\n",
        "  x, y, z = rnd_state\n",
        "  x = (171 * x) % 30269\n",
        "  y = (172 * y) % 30307\n",
        "  z = (170 * z) % 30323\n",
        "  rnd_state = x,y,z\n",
        "  return (x/30269 + y/30307 + z/30323) % 1.0"
      ],
      "metadata": {
        "id": "Y9NKPyuyoqmA"
      },
      "execution_count": null,
      "outputs": []
    },
    {
      "cell_type": "code",
      "source": [
        "rand(), rand(), rand()"
      ],
      "metadata": {
        "colab": {
          "base_uri": "https://localhost:8080/"
        },
        "id": "ZVp2FXdDu1IM",
        "outputId": "36bac6fb-d1c4-41b6-ad26-013d3be8e32e"
      },
      "execution_count": null,
      "outputs": [
        {
          "output_type": "execute_result",
          "data": {
            "text/plain": [
              "(0.7645251082582081, 0.7920889799553945, 0.06912886811267205)"
            ]
          },
          "metadata": {},
          "execution_count": 19
        }
      ]
    },
    {
      "cell_type": "markdown",
      "source": [
        "Issue with random number generation read [here](https://mlops.systems/computervision/fastai/parttwo/2022/10/24/foundations-mnist-basics.html#Generate-some-random-numbers) for more "
      ],
      "metadata": {
        "id": "6RU749Cvzw60"
      }
    },
    {
      "cell_type": "code",
      "source": [
        "if os.fork():\n",
        "  print(f'Inparent: {rand()}')\n",
        "else:\n",
        "  print(f'In child: {rand()}')\n",
        "  os._exit(os.EX_OK)"
      ],
      "metadata": {
        "colab": {
          "base_uri": "https://localhost:8080/"
        },
        "id": "8qeKR1uLwCt0",
        "outputId": "347566de-5799-4793-e71f-d090e8419f20"
      },
      "execution_count": null,
      "outputs": [
        {
          "output_type": "stream",
          "name": "stdout",
          "text": [
            "Inparent: 0.15532781424845843\n",
            "In child: 0.15532781424845843\n"
          ]
        }
      ]
    },
    {
      "cell_type": "code",
      "source": [
        "if os.fork():\n",
        "  print(f'Inparent: {torch.rand(1)}')\n",
        "else:\n",
        "  print(f'In child: {torch.rand(1)}')\n",
        "  os._exit(os.EX_OK)\n"
      ],
      "metadata": {
        "colab": {
          "base_uri": "https://localhost:8080/"
        },
        "id": "l_o0nxcKu54T",
        "outputId": "6922384d-8d2d-4270-cf91-8ee1627cd0a4"
      },
      "execution_count": null,
      "outputs": [
        {
          "output_type": "stream",
          "name": "stdout",
          "text": [
            "Inparent: tensor([0.1449])\n",
            "In child: tensor([0.1449])\n"
          ]
        }
      ]
    },
    {
      "cell_type": "code",
      "source": [
        "import numpy as np"
      ],
      "metadata": {
        "id": "bxIqzbZJya0_"
      },
      "execution_count": 10,
      "outputs": []
    },
    {
      "cell_type": "code",
      "source": [
        "if os.fork():\n",
        "  print(f'Inparent: {np.random.rand(1)}')\n",
        "else:\n",
        "  print(f'In child: {np.random.rand(1)}')\n",
        "  os._exit(os.EX_OK)"
      ],
      "metadata": {
        "colab": {
          "base_uri": "https://localhost:8080/"
        },
        "id": "gRfesQQHyM2U",
        "outputId": "0622163a-7842-43b3-e629-b6be30af9b45"
      },
      "execution_count": null,
      "outputs": [
        {
          "output_type": "stream",
          "name": "stdout",
          "text": [
            "Inparent: [0.15557271]\n",
            "In child: [0.15557271]\n"
          ]
        }
      ]
    },
    {
      "cell_type": "code",
      "source": [
        "from random import random "
      ],
      "metadata": {
        "id": "4w8BgZsZxXu0"
      },
      "execution_count": null,
      "outputs": []
    },
    {
      "cell_type": "code",
      "source": [
        "if os.fork():\n",
        "  print(f'Inparent: {random()}')\n",
        "else:\n",
        "  print(f'In child: {random()}')\n",
        "  os._exit(os.EX_OK)"
      ],
      "metadata": {
        "colab": {
          "base_uri": "https://localhost:8080/"
        },
        "id": "Q-q7b6HAyCpY",
        "outputId": "3844c247-16f3-4457-db62-d6e6304d44a1"
      },
      "execution_count": null,
      "outputs": [
        {
          "output_type": "stream",
          "name": "stdout",
          "text": [
            "Inparent: 0.07139119726508514\n",
            "In child: 0.11867943639224843\n"
          ]
        }
      ]
    },
    {
      "cell_type": "code",
      "source": [],
      "metadata": {
        "id": "1wpAXGAryHA8"
      },
      "execution_count": null,
      "outputs": []
    },
    {
      "cell_type": "markdown",
      "source": [
        "random numbers should have no correlation between them "
      ],
      "metadata": {
        "id": "FGWQC4UD0bFJ"
      }
    },
    {
      "cell_type": "code",
      "source": [
        "plt.plot([rand() for _ in range(50)]);"
      ],
      "metadata": {
        "colab": {
          "base_uri": "https://localhost:8080/",
          "height": 265
        },
        "id": "6x3eQME50jrY",
        "outputId": "4da42ea5-6963-4a2a-e0b2-82cd217abc87"
      },
      "execution_count": null,
      "outputs": [
        {
          "output_type": "display_data",
          "data": {
            "text/plain": [
              "<Figure size 432x288 with 1 Axes>"
            ],
            "image/png": "[encoded data removed]"
          },
          "metadata": {
            "needs_background": "light"
          }
        }
      ]
    },
    {
      "cell_type": "code",
      "source": [
        "plt.hist([rand() for _ in range(10000)]);"
      ],
      "metadata": {
        "colab": {
          "base_uri": "https://localhost:8080/",
          "height": 265
        },
        "id": "ujXwvpE_00mF",
        "outputId": "24311278-eb75-4167-f0af-d9f0e3904a5e"
      },
      "execution_count": null,
      "outputs": [
        {
          "output_type": "display_data",
          "data": {
            "text/plain": [
              "<Figure size 432x288 with 1 Axes>"
            ],
            "image/png": "[encoded data removed]"
          },
          "metadata": {
            "needs_background": "light"
          }
        }
      ]
    },
    {
      "cell_type": "code",
      "source": [
        "print([i for i in range(10)])"
      ],
      "metadata": {
        "colab": {
          "base_uri": "https://localhost:8080/"
        },
        "id": "0_L5Lfl32t84",
        "outputId": "e6240365-bef4-46ca-e81a-b30df1953862"
      },
      "execution_count": null,
      "outputs": [
        {
          "output_type": "stream",
          "name": "stdout",
          "text": [
            "[0, 1, 2, 3, 4, 5, 6, 7, 8, 9]\n"
          ]
        }
      ]
    },
    {
      "cell_type": "code",
      "source": [
        "%timeit -n 10 list(chunks([rand() for _ in range(7840)],10))"
      ],
      "metadata": {
        "colab": {
          "base_uri": "https://localhost:8080/"
        },
        "id": "tbFBZGFc1keU",
        "outputId": "4a743df9-2dec-451b-f33d-ff03c4304f61"
      },
      "execution_count": null,
      "outputs": [
        {
          "output_type": "stream",
          "name": "stdout",
          "text": [
            "16.7 ms ± 4.04 ms per loop (mean ± std. dev. of 7 runs, 10 loops each)\n"
          ]
        }
      ]
    },
    {
      "cell_type": "code",
      "source": [
        "%timeit -n 10 torch.randn(784,10)"
      ],
      "metadata": {
        "colab": {
          "base_uri": "https://localhost:8080/"
        },
        "id": "7Z30Hxpf2KHa",
        "outputId": "c8d6a8dd-4587-4f75-e598-954aa0fbb5f2"
      },
      "execution_count": null,
      "outputs": [
        {
          "output_type": "stream",
          "name": "stdout",
          "text": [
            "The slowest run took 16.73 times longer than the fastest. This could mean that an intermediate result is being cached.\n",
            "409 µs ± 530 µs per loop (mean ± std. dev. of 7 runs, 10 loops each)\n"
          ]
        }
      ]
    },
    {
      "cell_type": "markdown",
      "source": [
        "# matrix multiplication"
      ],
      "metadata": {
        "id": "GAzbUoAGnEN8"
      }
    },
    {
      "cell_type": "code",
      "source": [
        "weights = torch.randn(784,10)\n",
        "bias = torch.zeros(10)"
      ],
      "metadata": {
        "id": "N57-Me1nYmVu"
      },
      "execution_count": 22,
      "outputs": []
    },
    {
      "cell_type": "code",
      "source": [
        "m1 = x_test[:5]\n",
        "m2 = weights"
      ],
      "metadata": {
        "id": "XO0EANK7nBvK"
      },
      "execution_count": 99,
      "outputs": []
    },
    {
      "cell_type": "code",
      "source": [
        "m1.shape, m2.shape"
      ],
      "metadata": {
        "id": "_r49FZlU3eYG",
        "colab": {
          "base_uri": "https://localhost:8080/"
        },
        "outputId": "2121df03-b729-4c44-b42b-b44f02ac380a"
      },
      "execution_count": 24,
      "outputs": [
        {
          "output_type": "execute_result",
          "data": {
            "text/plain": [
              "(torch.Size([5, 784]), torch.Size([784, 10]))"
            ]
          },
          "metadata": {},
          "execution_count": 24
        }
      ]
    },
    {
      "cell_type": "code",
      "source": [
        "ar, ac = m1.shape\n",
        "br, bc = m2.shape\n",
        "(ar,ac), (br,bc)"
      ],
      "metadata": {
        "colab": {
          "base_uri": "https://localhost:8080/"
        },
        "id": "QB_jxjCroTnz",
        "outputId": "720c9f41-56e1-42fb-ca27-daf5521ef260"
      },
      "execution_count": 25,
      "outputs": [
        {
          "output_type": "execute_result",
          "data": {
            "text/plain": [
              "((5, 784), (784, 10))"
            ]
          },
          "metadata": {},
          "execution_count": 25
        }
      ]
    },
    {
      "cell_type": "code",
      "source": [
        "t1 = torch.zeros(ar, bc)\n",
        "t1.shape"
      ],
      "metadata": {
        "colab": {
          "base_uri": "https://localhost:8080/"
        },
        "id": "qMLWVJl4oobo",
        "outputId": "778d10d1-1914-4681-fe34-189a79f4ac7b"
      },
      "execution_count": 26,
      "outputs": [
        {
          "output_type": "execute_result",
          "data": {
            "text/plain": [
              "torch.Size([5, 10])"
            ]
          },
          "metadata": {},
          "execution_count": 26
        }
      ]
    },
    {
      "cell_type": "code",
      "source": [
        "for i in range(ar):\n",
        "  for j in range(bc):\n",
        "    for k in range(ac):\n",
        "      t1[i,j] += m1[i,k] * m2[k,j]"
      ],
      "metadata": {
        "id": "MveSPAAnpLrk"
      },
      "execution_count": 27,
      "outputs": []
    },
    {
      "cell_type": "code",
      "source": [
        "t1"
      ],
      "metadata": {
        "colab": {
          "base_uri": "https://localhost:8080/"
        },
        "id": "UBtqL2JErFS6",
        "outputId": "1e8c588c-78dc-449d-f2d8-16f39fee41de"
      },
      "execution_count": 28,
      "outputs": [
        {
          "output_type": "execute_result",
          "data": {
            "text/plain": [
              "tensor([[  752.1404,  -199.4974, -2760.0786, -1629.7404,  1425.1672, -1462.9799,\n",
              "         -2943.9993,  1485.8739, -1623.0640, -1092.7344],\n",
              "        [-1499.0490,  -654.4514,  -939.0584,  -853.6017,  4367.0371, -6446.9922,\n",
              "         -2186.1750,  2657.9675, -6551.7695,  -652.3804],\n",
              "        [ -985.9463,  -685.3962, -2754.8594,  2714.5679,  1202.4011, -3862.9167,\n",
              "          4298.0303, -1560.0381, -2218.6030, -3341.4258],\n",
              "        [ -504.8619, -2697.9363,  -734.5185,  1578.3490,  1276.0165, -3412.2544,\n",
              "          1688.4396, -1793.0093, -2401.6067, -2518.4358],\n",
              "        [-2418.3276,   405.3791,  1005.0917,  1529.8827,  2456.0583, -2184.4324,\n",
              "          -903.9899,  1008.4126, -3656.0352,  1486.3264]])"
            ]
          },
          "metadata": {},
          "execution_count": 28
        }
      ]
    },
    {
      "cell_type": "code",
      "source": [
        "t1.shape"
      ],
      "metadata": {
        "colab": {
          "base_uri": "https://localhost:8080/"
        },
        "id": "TGEe1KwLrHtB",
        "outputId": "66ff08a8-10c5-4133-bea4-2f88306bbac8"
      },
      "execution_count": 29,
      "outputs": [
        {
          "output_type": "execute_result",
          "data": {
            "text/plain": [
              "torch.Size([5, 10])"
            ]
          },
          "metadata": {},
          "execution_count": 29
        }
      ]
    },
    {
      "cell_type": "markdown",
      "source": [
        "To print on wider space "
      ],
      "metadata": {
        "id": "sAmSfguWsGA-"
      }
    },
    {
      "cell_type": "code",
      "source": [
        "import numpy as np"
      ],
      "metadata": {
        "id": "uoP0Uub8ajmR"
      },
      "execution_count": 31,
      "outputs": []
    },
    {
      "cell_type": "code",
      "source": [
        "torch.set_printoptions(precision=2, linewidth=140, sci_mode=False)\n",
        "np.set_printoptions(precision=2, linewidth=140)\n",
        "t1"
      ],
      "metadata": {
        "colab": {
          "base_uri": "https://localhost:8080/"
        },
        "id": "HgpbcDyhsLjt",
        "outputId": "8b45e059-2534-428f-ae6a-5a7fa8f06454"
      },
      "execution_count": 32,
      "outputs": [
        {
          "output_type": "execute_result",
          "data": {
            "text/plain": [
              "tensor([[  752.14,  -199.50, -2760.08, -1629.74,  1425.17, -1462.98, -2944.00,  1485.87, -1623.06, -1092.73],\n",
              "        [-1499.05,  -654.45,  -939.06,  -853.60,  4367.04, -6446.99, -2186.18,  2657.97, -6551.77,  -652.38],\n",
              "        [ -985.95,  -685.40, -2754.86,  2714.57,  1202.40, -3862.92,  4298.03, -1560.04, -2218.60, -3341.43],\n",
              "        [ -504.86, -2697.94,  -734.52,  1578.35,  1276.02, -3412.25,  1688.44, -1793.01, -2401.61, -2518.44],\n",
              "        [-2418.33,   405.38,  1005.09,  1529.88,  2456.06, -2184.43,  -903.99,  1008.41, -3656.04,  1486.33]])"
            ]
          },
          "metadata": {},
          "execution_count": 32
        }
      ]
    },
    {
      "cell_type": "code",
      "source": [
        "def matmul(a,b):\n",
        "  (ar,ac),(br,bc) = a.shape, b.shape\n",
        "  c = torch.zeros(ar,bc)\n",
        "  for i in range(ar):\n",
        "    for j in range(bc):\n",
        "      for k in range(ac):\n",
        "        c[i,j] += a[i,k] * b[k,j]\n"
      ],
      "metadata": {
        "id": "k17WpXxssqxk"
      },
      "execution_count": 33,
      "outputs": []
    },
    {
      "cell_type": "code",
      "source": [
        "%time _=matmul(m1,m2)"
      ],
      "metadata": {
        "colab": {
          "base_uri": "https://localhost:8080/"
        },
        "id": "gFvbVTbBuvlf",
        "outputId": "4d3f0740-400a-4f72-b6c6-fe39f5b75d71"
      },
      "execution_count": 34,
      "outputs": [
        {
          "output_type": "stream",
          "name": "stdout",
          "text": [
            "CPU times: user 858 ms, sys: 1.35 ms, total: 860 ms\n",
            "Wall time: 862 ms\n"
          ]
        }
      ]
    },
    {
      "cell_type": "markdown",
      "source": [
        "#Numba\n",
        "changes the python code to machine code\n",
        "It goes fast when it runs for second time"
      ],
      "metadata": {
        "id": "8QeZkeHvvPJn"
      }
    },
    {
      "cell_type": "code",
      "source": [
        "from numba import njit"
      ],
      "metadata": {
        "id": "woHpBUruu2Yf"
      },
      "execution_count": 35,
      "outputs": []
    },
    {
      "cell_type": "code",
      "source": [
        "@njit\n",
        "def dot(a,b):\n",
        "  res = 0.\n",
        "  for i in range (len(a)):\n",
        "    res+=a[i]*b[i]\n",
        "  return res"
      ],
      "metadata": {
        "id": "jW4-Z1TZwY0w"
      },
      "execution_count": 36,
      "outputs": []
    },
    {
      "cell_type": "code",
      "source": [
        "from numpy import array"
      ],
      "metadata": {
        "id": "oMnp1QOYxl_T"
      },
      "execution_count": 37,
      "outputs": []
    },
    {
      "cell_type": "code",
      "source": [
        "%time dot(array([1.,2,3]),array([2.,3,4]))"
      ],
      "metadata": {
        "colab": {
          "base_uri": "https://localhost:8080/"
        },
        "id": "kzJKn6_8x6ke",
        "outputId": "92a753f8-d61e-427b-9cc1-dce82353777f"
      },
      "execution_count": 38,
      "outputs": [
        {
          "output_type": "stream",
          "name": "stdout",
          "text": [
            "CPU times: user 507 ms, sys: 61.5 ms, total: 568 ms\n",
            "Wall time: 632 ms\n"
          ]
        },
        {
          "output_type": "execute_result",
          "data": {
            "text/plain": [
              "20.0"
            ]
          },
          "metadata": {},
          "execution_count": 38
        }
      ]
    },
    {
      "cell_type": "markdown",
      "source": [
        "Changing the third loop matmul function with with dot function defined above"
      ],
      "metadata": {
        "id": "kkYZqjc7z835"
      }
    },
    {
      "cell_type": "code",
      "source": [
        "def matmul(a,b):\n",
        "  (ar,ac),(br,bc) = a.shape, b.shape\n",
        "  c = torch.zeros(ar,bc)\n",
        "  for i in range(ar):\n",
        "    for j in range(bc):\n",
        "      c[i,j] = dot(a[i,:],b[:,j])\n",
        "  return c"
      ],
      "metadata": {
        "id": "JT9vQX0t0OuZ"
      },
      "execution_count": 39,
      "outputs": []
    },
    {
      "cell_type": "code",
      "source": [
        "m1a,m2a = m1.numpy(), m2.numpy() #changing the matrice to np array"
      ],
      "metadata": {
        "id": "LDkqsAi12AUM"
      },
      "execution_count": 40,
      "outputs": []
    },
    {
      "cell_type": "code",
      "source": [
        "from fastcore.test import *\n",
        "test_close(t1,matmul(m1a, m2a), eps=1e-2) #checking if the two matrices are equal"
      ],
      "metadata": {
        "id": "vqz1w2NL60G9"
      },
      "execution_count": 45,
      "outputs": []
    },
    {
      "cell_type": "code",
      "source": [
        "%timeit -n 10 matmul(m1a,m2a)"
      ],
      "metadata": {
        "colab": {
          "base_uri": "https://localhost:8080/"
        },
        "id": "L-dtubeK3ELS",
        "outputId": "61d9cba6-0edd-4737-a7ff-bf5341c21f57"
      },
      "execution_count": 46,
      "outputs": [
        {
          "output_type": "stream",
          "name": "stdout",
          "text": [
            "564 µs ± 207 µs per loop (mean ± std. dev. of 7 runs, 10 loops each)\n"
          ]
        }
      ]
    },
    {
      "cell_type": "code",
      "source": [],
      "metadata": {
        "id": "8q5094no3Pc-"
      },
      "execution_count": null,
      "outputs": []
    },
    {
      "cell_type": "markdown",
      "source": [
        "#Elementwise ops"
      ],
      "metadata": {
        "id": "4m9kC9aWKET6"
      }
    },
    {
      "cell_type": "code",
      "source": [
        "def matmul(a,b):\n",
        "  (ar,ac),(br,bc) = a.shape, b.shape\n",
        "  c = torch.zeros(ar, bc)\n",
        "  for i in range(ar):\n",
        "    for j in range(bc):\n",
        "      c[i,j] = (a[i,:] * b[:,j]).sum()\n",
        "  return c"
      ],
      "metadata": {
        "id": "IAbP3Od3J67r"
      },
      "execution_count": 71,
      "outputs": []
    },
    {
      "cell_type": "code",
      "source": [
        "test_close(t1,matmul(m1, m2), eps=1e-2)"
      ],
      "metadata": {
        "id": "cIAMJ9zWKyoK"
      },
      "execution_count": 72,
      "outputs": []
    },
    {
      "cell_type": "code",
      "source": [
        "%timeit -n 10 _=matmul(m1, m2)"
      ],
      "metadata": {
        "colab": {
          "base_uri": "https://localhost:8080/"
        },
        "id": "k1L_i75iK2Br",
        "outputId": "d6f6937b-9881-4ee1-90b7-27209c45e1b2"
      },
      "execution_count": 73,
      "outputs": [
        {
          "output_type": "stream",
          "name": "stdout",
          "text": [
            "1.44 ms ± 230 µs per loop (mean ± std. dev. of 7 runs, 10 loops each)\n"
          ]
        }
      ]
    },
    {
      "cell_type": "code",
      "source": [
        "def matmul(a,b):\n",
        "  (ar,ac),(br,bc) = a.shape,b.shape\n",
        "  c = torch.zeros(ar, bc)\n",
        "  for i in range(ar):\n",
        "    for j in range(bc):\n",
        "      c[i,j] = torch.dot(a[i,:], b[:,j])\n",
        "  return c"
      ],
      "metadata": {
        "id": "r5N2DDL3MotD"
      },
      "execution_count": 74,
      "outputs": []
    },
    {
      "cell_type": "code",
      "source": [
        "x_train.type()"
      ],
      "metadata": {
        "colab": {
          "base_uri": "https://localhost:8080/",
          "height": 36
        },
        "id": "INAdVgiikXcI",
        "outputId": "21b0321f-2f16-48f6-a759-4348cca529d6"
      },
      "execution_count": 76,
      "outputs": [
        {
          "output_type": "execute_result",
          "data": {
            "text/plain": [
              "'torch.LongTensor'"
            ],
            "application/vnd.google.colaboratory.intrinsic+json": {
              "type": "string"
            }
          },
          "metadata": {},
          "execution_count": 76
        }
      ]
    },
    {
      "cell_type": "code",
      "source": [
        "test_close(t1,matmul(m1, m2), eps=1e-2)"
      ],
      "metadata": {
        "id": "CbB9NT2Zfmvi"
      },
      "execution_count": 104,
      "outputs": []
    },
    {
      "cell_type": "code",
      "source": [],
      "metadata": {
        "id": "Sh7EcsVNgrTw"
      },
      "execution_count": null,
      "outputs": []
    },
    {
      "cell_type": "markdown",
      "source": [
        "#Broadcasting"
      ],
      "metadata": {
        "id": "B9duymcyqfES"
      }
    },
    {
      "cell_type": "code",
      "source": [
        "a = tensor([10., 6, -4])\n",
        "b = tensor([2., 8, 7])\n",
        "a,b"
      ],
      "metadata": {
        "colab": {
          "base_uri": "https://localhost:8080/"
        },
        "id": "ZqCXnrYIqhAs",
        "outputId": "1454f29b-8181-429b-ae7e-bcd1ba6e0537"
      },
      "execution_count": 106,
      "outputs": [
        {
          "output_type": "execute_result",
          "data": {
            "text/plain": [
              "(tensor([10.,  6., -4.]), tensor([2., 8., 7.]))"
            ]
          },
          "metadata": {},
          "execution_count": 106
        }
      ]
    },
    {
      "cell_type": "code",
      "source": [
        "a>0"
      ],
      "metadata": {
        "colab": {
          "base_uri": "https://localhost:8080/"
        },
        "id": "32tfU_Ysq4lC",
        "outputId": "4e4dd835-edd4-4a03-a745-99ea26905010"
      },
      "execution_count": 108,
      "outputs": [
        {
          "output_type": "execute_result",
          "data": {
            "text/plain": [
              "tensor([ True,  True, False])"
            ]
          },
          "metadata": {},
          "execution_count": 108
        }
      ]
    },
    {
      "cell_type": "code",
      "source": [
        "m = tensor([[1., 2, 3], [4,5,6], [7,8,9]]); m"
      ],
      "metadata": {
        "colab": {
          "base_uri": "https://localhost:8080/"
        },
        "id": "9DSdTxV7rA8T",
        "outputId": "37c9b342-2c82-4c51-ffb0-d44fd6a66063"
      },
      "execution_count": 111,
      "outputs": [
        {
          "output_type": "execute_result",
          "data": {
            "text/plain": [
              "tensor([[1., 2., 3.],\n",
              "        [4., 5., 6.],\n",
              "        [7., 8., 9.]])"
            ]
          },
          "metadata": {},
          "execution_count": 111
        }
      ]
    },
    {
      "cell_type": "code",
      "source": [
        "c = tensor([10.,20,30]); c"
      ],
      "metadata": {
        "colab": {
          "base_uri": "https://localhost:8080/"
        },
        "id": "T-vVU1GluPMo",
        "outputId": "c2998d17-836e-4b22-80ef-a5bdd6ba834a"
      },
      "execution_count": 112,
      "outputs": [
        {
          "output_type": "execute_result",
          "data": {
            "text/plain": [
              "tensor([10., 20., 30.])"
            ]
          },
          "metadata": {},
          "execution_count": 112
        }
      ]
    },
    {
      "cell_type": "code",
      "source": [
        "m.shape, c.shape"
      ],
      "metadata": {
        "colab": {
          "base_uri": "https://localhost:8080/"
        },
        "id": "yfdNwWJZuQeB",
        "outputId": "d9b6e5a9-8dc3-41dc-9ae4-57505e97805b"
      },
      "execution_count": 113,
      "outputs": [
        {
          "output_type": "execute_result",
          "data": {
            "text/plain": [
              "(torch.Size([3, 3]), torch.Size([3]))"
            ]
          },
          "metadata": {},
          "execution_count": 113
        }
      ]
    },
    {
      "cell_type": "code",
      "source": [
        "m + c"
      ],
      "metadata": {
        "colab": {
          "base_uri": "https://localhost:8080/"
        },
        "id": "DldAv6UZuyEp",
        "outputId": "2716414c-f18b-4ee4-c7f4-af49f937b079"
      },
      "execution_count": 117,
      "outputs": [
        {
          "output_type": "execute_result",
          "data": {
            "text/plain": [
              "tensor([[11., 22., 33.],\n",
              "        [14., 25., 36.],\n",
              "        [17., 28., 39.]])"
            ]
          },
          "metadata": {},
          "execution_count": 117
        }
      ]
    },
    {
      "cell_type": "code",
      "source": [
        "t = c.expand_as(m)\n",
        "t"
      ],
      "metadata": {
        "colab": {
          "base_uri": "https://localhost:8080/"
        },
        "id": "8AAxaJAV0DhF",
        "outputId": "6857fc40-2161-4a68-821f-f6ed2e7a917d"
      },
      "execution_count": 119,
      "outputs": [
        {
          "output_type": "execute_result",
          "data": {
            "text/plain": [
              "tensor([[10., 20., 30.],\n",
              "        [10., 20., 30.],\n",
              "        [10., 20., 30.]])"
            ]
          },
          "metadata": {},
          "execution_count": 119
        }
      ]
    },
    {
      "cell_type": "code",
      "source": [
        "m + t"
      ],
      "metadata": {
        "colab": {
          "base_uri": "https://localhost:8080/"
        },
        "id": "OiUyBACP13Dq",
        "outputId": "f741f9b2-8205-41c9-b1b0-9d915b1e2469"
      },
      "execution_count": 120,
      "outputs": [
        {
          "output_type": "execute_result",
          "data": {
            "text/plain": [
              "tensor([[11., 22., 33.],\n",
              "        [14., 25., 36.],\n",
              "        [17., 28., 39.]])"
            ]
          },
          "metadata": {},
          "execution_count": 120
        }
      ]
    },
    {
      "cell_type": "markdown",
      "source": [
        "We don't copy the rows"
      ],
      "metadata": {
        "id": "33OMGseVvSS2"
      }
    },
    {
      "cell_type": "code",
      "source": [
        "t.storage()"
      ],
      "metadata": {
        "colab": {
          "base_uri": "https://localhost:8080/"
        },
        "id": "fK8GNVgW19Yp",
        "outputId": "99bcb1b9-c9f9-4012-99df-79d83a7d12ea"
      },
      "execution_count": 121,
      "outputs": [
        {
          "output_type": "execute_result",
          "data": {
            "text/plain": [
              " 10.0\n",
              " 20.0\n",
              " 30.0\n",
              "[torch.storage._TypedStorage(dtype=torch.float32, device=cpu) of size 3]"
            ]
          },
          "metadata": {},
          "execution_count": 121
        }
      ]
    },
    {
      "cell_type": "markdown",
      "source": [
        "You can index with the special value [None] or use unsqueeze() to convert a 1-dimensional array into a 2-dimensional array"
      ],
      "metadata": {
        "id": "K_ZoTLxa_8cn"
      }
    },
    {
      "cell_type": "code",
      "source": [
        " c.unsqueeze(0), c[None, :]"
      ],
      "metadata": {
        "colab": {
          "base_uri": "https://localhost:8080/"
        },
        "id": "sXK9IdWe2uJQ",
        "outputId": "9292c711-5a30-462d-fe7a-fcc1f849c676"
      },
      "execution_count": 134,
      "outputs": [
        {
          "output_type": "execute_result",
          "data": {
            "text/plain": [
              "(tensor([[10., 20., 30.]]), tensor([[10., 20., 30.]]))"
            ]
          },
          "metadata": {},
          "execution_count": 134
        }
      ]
    },
    {
      "cell_type": "code",
      "source": [
        "c.shape, c[None, :].shape"
      ],
      "metadata": {
        "colab": {
          "base_uri": "https://localhost:8080/"
        },
        "id": "Wrw9rtud3Qe8",
        "outputId": "7dbf0046-b77a-4b7f-c805-2c89f5eaca78"
      },
      "execution_count": 135,
      "outputs": [
        {
          "output_type": "execute_result",
          "data": {
            "text/plain": [
              "(torch.Size([3]), torch.Size([1, 3]))"
            ]
          },
          "metadata": {},
          "execution_count": 135
        }
      ]
    },
    {
      "cell_type": "code",
      "source": [
        " c[:,None]"
      ],
      "metadata": {
        "colab": {
          "base_uri": "https://localhost:8080/"
        },
        "id": "lflzo85K4ycY",
        "outputId": "e9e56b9e-149f-4d84-b6a8-5fc3f83940a3"
      },
      "execution_count": 139,
      "outputs": [
        {
          "output_type": "execute_result",
          "data": {
            "text/plain": [
              "tensor([[10.],\n",
              "        [20.],\n",
              "        [30.]])"
            ]
          },
          "metadata": {},
          "execution_count": 139
        }
      ]
    },
    {
      "cell_type": "code",
      "source": [
        " c[:,None].shape"
      ],
      "metadata": {
        "colab": {
          "base_uri": "https://localhost:8080/"
        },
        "id": "I6l5CbTk54T0",
        "outputId": "04acabb4-afe9-45ae-968b-de405d650b10"
      },
      "execution_count": 140,
      "outputs": [
        {
          "output_type": "execute_result",
          "data": {
            "text/plain": [
              "torch.Size([3, 1])"
            ]
          },
          "metadata": {},
          "execution_count": 140
        }
      ]
    },
    {
      "cell_type": "code",
      "source": [
        "c[None].shape, c[...,None].shape"
      ],
      "metadata": {
        "colab": {
          "base_uri": "https://localhost:8080/"
        },
        "id": "Bf7fomqd6Lkp",
        "outputId": "7421fbc3-d1c7-4961-e4d1-3b3afff9d491"
      },
      "execution_count": 141,
      "outputs": [
        {
          "output_type": "execute_result",
          "data": {
            "text/plain": [
              "(torch.Size([1, 3]), torch.Size([3, 1]))"
            ]
          },
          "metadata": {},
          "execution_count": 141
        }
      ]
    },
    {
      "cell_type": "code",
      "source": [
        "c[:,None].expand_as(m)"
      ],
      "metadata": {
        "colab": {
          "base_uri": "https://localhost:8080/"
        },
        "id": "oIwyLkyQ7XaK",
        "outputId": "957b0135-e0d4-4c65-f24a-45a914bdf161"
      },
      "execution_count": 143,
      "outputs": [
        {
          "output_type": "execute_result",
          "data": {
            "text/plain": [
              "tensor([[10., 10., 10.],\n",
              "        [20., 20., 20.],\n",
              "        [30., 30., 30.]])"
            ]
          },
          "metadata": {},
          "execution_count": 143
        }
      ]
    },
    {
      "cell_type": "code",
      "source": [
        "m + c[:,None]"
      ],
      "metadata": {
        "colab": {
          "base_uri": "https://localhost:8080/"
        },
        "id": "P8I08D9D63Rp",
        "outputId": "653167bf-97ff-42ea-d602-e4b190dac7ec"
      },
      "execution_count": 142,
      "outputs": [
        {
          "output_type": "execute_result",
          "data": {
            "text/plain": [
              "tensor([[11., 12., 13.],\n",
              "        [24., 25., 26.],\n",
              "        [37., 38., 39.]])"
            ]
          },
          "metadata": {},
          "execution_count": 142
        }
      ]
    },
    {
      "cell_type": "code",
      "source": [
        "c[None,:] * c[:,None]"
      ],
      "metadata": {
        "colab": {
          "base_uri": "https://localhost:8080/"
        },
        "id": "62F5mYO07UhJ",
        "outputId": "e55f5dcc-6aa9-4037-fd67-cf021bc4e359"
      },
      "execution_count": 144,
      "outputs": [
        {
          "output_type": "execute_result",
          "data": {
            "text/plain": [
              "tensor([[100., 200., 300.],\n",
              "        [200., 400., 600.],\n",
              "        [300., 600., 900.]])"
            ]
          },
          "metadata": {},
          "execution_count": 144
        }
      ]
    },
    {
      "cell_type": "code",
      "source": [
        "c[:,None] @ c[None,:] "
      ],
      "metadata": {
        "colab": {
          "base_uri": "https://localhost:8080/"
        },
        "id": "1_3_cMN09BCG",
        "outputId": "c6bf6f89-510e-4721-aa52-4e563847c6f7"
      },
      "execution_count": 148,
      "outputs": [
        {
          "output_type": "execute_result",
          "data": {
            "text/plain": [
              "tensor([[100., 200., 300.],\n",
              "        [200., 400., 600.],\n",
              "        [300., 600., 900.]])"
            ]
          },
          "metadata": {},
          "execution_count": 148
        }
      ]
    },
    {
      "cell_type": "markdown",
      "source": [
        "#Broadcasting rule"
      ],
      "metadata": {
        "id": "Fg9GdWq6EGy7"
      }
    },
    {
      "cell_type": "markdown",
      "source": [
        "When operating on two arrays/tensors, Numpy/PyTorch compares their shapes element-wise. It starts with the trailing dimensions, and works its way forward. Two dimensions are compatible when\n",
        "\n",
        "\n",
        "\n",
        "*  they are equal, or\n",
        "*   one of them is 1, in which case that dimension is broadcasted to make it the same size\n",
        "\n",
        "\n"
      ],
      "metadata": {
        "id": "jfQAEk09EMny"
      }
    },
    {
      "cell_type": "markdown",
      "source": [
        "#matmul with broadcasting"
      ],
      "metadata": {
        "id": "7HtM6D7PA3E5"
      }
    },
    {
      "cell_type": "code",
      "source": [
        "cloth = m1[0]\n",
        "cloth.shape, m2.shape"
      ],
      "metadata": {
        "colab": {
          "base_uri": "https://localhost:8080/"
        },
        "id": "R4wQ2eBiA6t4",
        "outputId": "e7713607-8bed-4f7e-d826-04d5e7d8ec79"
      },
      "execution_count": 150,
      "outputs": [
        {
          "output_type": "execute_result",
          "data": {
            "text/plain": [
              "(torch.Size([784]), torch.Size([784, 10]))"
            ]
          },
          "metadata": {},
          "execution_count": 150
        }
      ]
    },
    {
      "cell_type": "code",
      "source": [
        "cloth[:,None].shape"
      ],
      "metadata": {
        "colab": {
          "base_uri": "https://localhost:8080/"
        },
        "id": "GsKbTPZkBxMQ",
        "outputId": "999758f3-bac2-4a62-fea7-67540a8b171e"
      },
      "execution_count": 151,
      "outputs": [
        {
          "output_type": "execute_result",
          "data": {
            "text/plain": [
              "torch.Size([784, 1])"
            ]
          },
          "metadata": {},
          "execution_count": 151
        }
      ]
    },
    {
      "cell_type": "code",
      "source": [
        "(cloth[:,None]*m2).shape"
      ],
      "metadata": {
        "colab": {
          "base_uri": "https://localhost:8080/"
        },
        "id": "l-SS1b0KCZPB",
        "outputId": "eded1d4a-dca3-4a46-9eb9-e9fbc2f5424a"
      },
      "execution_count": 152,
      "outputs": [
        {
          "output_type": "execute_result",
          "data": {
            "text/plain": [
              "torch.Size([784, 10])"
            ]
          },
          "metadata": {},
          "execution_count": 152
        }
      ]
    },
    {
      "cell_type": "code",
      "source": [
        "def matmul(a,b):\n",
        "  (ar,ac),(br,bc) = a.shape, b.shape\n",
        "  c = torch.zeros(ar,bc)\n",
        "  for i in range(ar):\n",
        "    c[i] = (a[i,:,None] * b).sum(dim=0)\n",
        "  return c"
      ],
      "metadata": {
        "id": "HgSXSGHRCoT6"
      },
      "execution_count": 155,
      "outputs": []
    },
    {
      "cell_type": "code",
      "source": [
        "test_close(t1,matmul(m1, m2), eps=1e-2)"
      ],
      "metadata": {
        "id": "Lm3CVyxrE78t"
      },
      "execution_count": 159,
      "outputs": []
    },
    {
      "cell_type": "code",
      "source": [
        "%timeit -n 10 _=matmul(m1, m2)"
      ],
      "metadata": {
        "colab": {
          "base_uri": "https://localhost:8080/"
        },
        "id": "aCIW90HUE_na",
        "outputId": "fc9d3b43-2712-422f-9cae-37333a3d97a1"
      },
      "execution_count": 160,
      "outputs": [
        {
          "output_type": "stream",
          "name": "stdout",
          "text": [
            "299 µs ± 94.7 µs per loop (mean ± std. dev. of 7 runs, 10 loops each)\n"
          ]
        }
      ]
    },
    {
      "cell_type": "code",
      "source": [
        "tr = matmul(x_train, weights)\n",
        "tr"
      ],
      "metadata": {
        "colab": {
          "base_uri": "https://localhost:8080/"
        },
        "id": "mGHykqdPFVJd",
        "outputId": "cb619cc8-d7cb-41b0-b062-5ff4be819655"
      },
      "execution_count": 162,
      "outputs": [
        {
          "output_type": "execute_result",
          "data": {
            "text/plain": [
              "tensor([[ 2165.21, -1229.96, -1386.39,  ...,  5791.70, -5227.97,  -737.64],\n",
              "        [-3796.37,  1353.31,  -285.88,  ...,  -862.43, -3184.57,  1069.33],\n",
              "        [ -114.55,   308.63,   -26.12,  ..., -1164.44, -2484.93,  -361.99],\n",
              "        ...,\n",
              "        [   61.76,  -369.80, -2845.02,  ...,  -443.44, -2903.15,  1419.20],\n",
              "        [ -710.85,  -157.07,   401.41,  ...,  -889.87, -1008.52,  -252.16],\n",
              "        [  630.18,   636.72,  -393.60,  ...,  -275.03,   672.47,  2047.24]])"
            ]
          },
          "metadata": {},
          "execution_count": 162
        }
      ]
    },
    {
      "cell_type": "code",
      "source": [
        "tr.shape"
      ],
      "metadata": {
        "colab": {
          "base_uri": "https://localhost:8080/"
        },
        "id": "goJOVSVYF_Pi",
        "outputId": "579d4225-0b58-4f8b-dd4d-026a18b8094a"
      },
      "execution_count": 163,
      "outputs": [
        {
          "output_type": "execute_result",
          "data": {
            "text/plain": [
              "torch.Size([60000, 10])"
            ]
          },
          "metadata": {},
          "execution_count": 163
        }
      ]
    },
    {
      "cell_type": "code",
      "source": [
        "%time _=matmul(x_train, weights)"
      ],
      "metadata": {
        "colab": {
          "base_uri": "https://localhost:8080/"
        },
        "id": "KDO4l_vBGRxa",
        "outputId": "bc610583-99d5-4a04-8158-b26320a647c9"
      },
      "execution_count": 164,
      "outputs": [
        {
          "output_type": "stream",
          "name": "stdout",
          "text": [
            "CPU times: user 1.8 s, sys: 0 ns, total: 1.8 s\n",
            "Wall time: 1.89 s\n"
          ]
        }
      ]
    },
    {
      "cell_type": "code",
      "source": [],
      "metadata": {
        "id": "5cQWiJAEGV3M"
      },
      "execution_count": null,
      "outputs": []
    }
  ]
}