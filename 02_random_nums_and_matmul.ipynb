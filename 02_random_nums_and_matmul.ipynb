{
  "nbformat": 4,
  "nbformat_minor": 0,
  "metadata": {
    "colab": {
      "provenance": [],
      "collapsed_sections": []
    },
    "kernelspec": {
      "name": "python3",
      "display_name": "Python 3"
    },
    "language_info": {
      "name": "python"
    }
  },
  "cells": [
    {
      "cell_type": "code",
      "execution_count": 20,
      "metadata": {
        "id": "qcNNEMGloeZ5"
      },
      "outputs": [],
      "source": [
        "import torch\n",
        "import matplotlib.pyplot as plt\n",
        "import os\n"
      ]
    },
    {
      "cell_type": "markdown",
      "source": [
        "# Random nubers"
      ],
      "metadata": {
        "id": "a7ebjQOppfuB"
      }
    },
    {
      "cell_type": "markdown",
      "source": [
        "Based on the Wichmann Hill algorithm used before Python 2.3."
      ],
      "metadata": {
        "id": "9t7G8EnypqpR"
      }
    },
    {
      "cell_type": "code",
      "source": [
        "rnd_state = None\n",
        "def seed(a):\n",
        "  global rnd_state\n",
        "  a, x = divmod(a, 30268)\n",
        "  a, y = divmod(a, 30306)\n",
        "  a, z = divmod(a, 30322)\n",
        "  rnd_state = int(x)+1, int(y)+1, int(z)+1"
      ],
      "metadata": {
        "id": "9355-CaxpeKY"
      },
      "execution_count": 16,
      "outputs": []
    },
    {
      "cell_type": "code",
      "source": [
        "seed(457428938475)\n",
        "rnd_state"
      ],
      "metadata": {
        "colab": {
          "base_uri": "https://localhost:8080/"
        },
        "id": "_xpTWT2CsuLo",
        "outputId": "edd4dcdc-564c-4dd7-be35-c7ddc7595acb"
      },
      "execution_count": 17,
      "outputs": [
        {
          "output_type": "execute_result",
          "data": {
            "text/plain": [
              "(4976, 20238, 499)"
            ]
          },
          "metadata": {},
          "execution_count": 17
        }
      ]
    },
    {
      "cell_type": "code",
      "source": [
        "def rand():\n",
        "  global rnd_state\n",
        "  x, y, z = rnd_state\n",
        "  x = (171 * x) % 30269\n",
        "  y = (172 * y) % 30307\n",
        "  z = (170 * z) % 30323\n",
        "  rnd_state = x,y,z\n",
        "  return (x/30269 + y/30307 + z/30323) % 1.0"
      ],
      "metadata": {
        "id": "Y9NKPyuyoqmA"
      },
      "execution_count": 18,
      "outputs": []
    },
    {
      "cell_type": "code",
      "source": [
        "rand(), rand(), rand()"
      ],
      "metadata": {
        "colab": {
          "base_uri": "https://localhost:8080/"
        },
        "id": "ZVp2FXdDu1IM",
        "outputId": "36bac6fb-d1c4-41b6-ad26-013d3be8e32e"
      },
      "execution_count": 19,
      "outputs": [
        {
          "output_type": "execute_result",
          "data": {
            "text/plain": [
              "(0.7645251082582081, 0.7920889799553945, 0.06912886811267205)"
            ]
          },
          "metadata": {},
          "execution_count": 19
        }
      ]
    },
    {
      "cell_type": "markdown",
      "source": [
        "Issue with random number generation read [here](https://mlops.systems/computervision/fastai/parttwo/2022/10/24/foundations-mnist-basics.html#Generate-some-random-numbers) for more "
      ],
      "metadata": {
        "id": "6RU749Cvzw60"
      }
    },
    {
      "cell_type": "code",
      "source": [
        "if os.fork():\n",
        "  print(f'Inparent: {rand()}')\n",
        "else:\n",
        "  print(f'In child: {rand()}')\n",
        "  os._exit(os.EX_OK)"
      ],
      "metadata": {
        "colab": {
          "base_uri": "https://localhost:8080/"
        },
        "id": "8qeKR1uLwCt0",
        "outputId": "347566de-5799-4793-e71f-d090e8419f20"
      },
      "execution_count": 25,
      "outputs": [
        {
          "output_type": "stream",
          "name": "stdout",
          "text": [
            "Inparent: 0.15532781424845843\n",
            "In child: 0.15532781424845843\n"
          ]
        }
      ]
    },
    {
      "cell_type": "code",
      "source": [
        "if os.fork():\n",
        "  print(f'Inparent: {torch.rand(1)}')\n",
        "else:\n",
        "  print(f'In child: {torch.rand(1)}')\n",
        "  os._exit(os.EX_OK)\n"
      ],
      "metadata": {
        "colab": {
          "base_uri": "https://localhost:8080/"
        },
        "id": "l_o0nxcKu54T",
        "outputId": "6922384d-8d2d-4270-cf91-8ee1627cd0a4"
      },
      "execution_count": 34,
      "outputs": [
        {
          "output_type": "stream",
          "name": "stdout",
          "text": [
            "Inparent: tensor([0.1449])\n",
            "In child: tensor([0.1449])\n"
          ]
        }
      ]
    },
    {
      "cell_type": "code",
      "source": [
        "import numpy as np"
      ],
      "metadata": {
        "id": "bxIqzbZJya0_"
      },
      "execution_count": 30,
      "outputs": []
    },
    {
      "cell_type": "code",
      "source": [
        "if os.fork():\n",
        "  print(f'Inparent: {np.random.rand(1)}')\n",
        "else:\n",
        "  print(f'In child: {np.random.rand(1)}')\n",
        "  os._exit(os.EX_OK)"
      ],
      "metadata": {
        "colab": {
          "base_uri": "https://localhost:8080/"
        },
        "id": "gRfesQQHyM2U",
        "outputId": "0622163a-7842-43b3-e629-b6be30af9b45"
      },
      "execution_count": 33,
      "outputs": [
        {
          "output_type": "stream",
          "name": "stdout",
          "text": [
            "Inparent: [0.15557271]\n",
            "In child: [0.15557271]\n"
          ]
        }
      ]
    },
    {
      "cell_type": "code",
      "source": [
        "from random import random "
      ],
      "metadata": {
        "id": "4w8BgZsZxXu0"
      },
      "execution_count": 27,
      "outputs": []
    },
    {
      "cell_type": "code",
      "source": [
        "if os.fork():\n",
        "  print(f'Inparent: {random()}')\n",
        "else:\n",
        "  print(f'In child: {random()}')\n",
        "  os._exit(os.EX_OK)"
      ],
      "metadata": {
        "colab": {
          "base_uri": "https://localhost:8080/"
        },
        "id": "Q-q7b6HAyCpY",
        "outputId": "3844c247-16f3-4457-db62-d6e6304d44a1"
      },
      "execution_count": 28,
      "outputs": [
        {
          "output_type": "stream",
          "name": "stdout",
          "text": [
            "Inparent: 0.07139119726508514\n",
            "In child: 0.11867943639224843\n"
          ]
        }
      ]
    },
    {
      "cell_type": "code",
      "source": [],
      "metadata": {
        "id": "1wpAXGAryHA8"
      },
      "execution_count": null,
      "outputs": []
    },
    {
      "cell_type": "markdown",
      "source": [
        "random numbers should have no correlation between them "
      ],
      "metadata": {
        "id": "FGWQC4UD0bFJ"
      }
    },
    {
      "cell_type": "code",
      "source": [
        "plt.plot([rand() for _ in range(50)]);"
      ],
      "metadata": {
        "colab": {
          "base_uri": "https://localhost:8080/",
          "height": 265
        },
        "id": "6x3eQME50jrY",
        "outputId": "4da42ea5-6963-4a2a-e0b2-82cd217abc87"
      },
      "execution_count": 37,
      "outputs": [
        {
          "output_type": "display_data",
          "data": {
            "text/plain": [
              "<Figure size 432x288 with 1 Axes>"
            ],
            "image/png": "[encoded data removed]"
          },
          "metadata": {
            "needs_background": "light"
          }
        }
      ]
    },
    {
      "cell_type": "code",
      "source": [
        "plt.hist([rand() for _ in range(10000)]);"
      ],
      "metadata": {
        "colab": {
          "base_uri": "https://localhost:8080/",
          "height": 265
        },
        "id": "ujXwvpE_00mF",
        "outputId": "24311278-eb75-4167-f0af-d9f0e3904a5e"
      },
      "execution_count": 38,
      "outputs": [
        {
          "output_type": "display_data",
          "data": {
            "text/plain": [
              "<Figure size 432x288 with 1 Axes>"
            ],
            "image/png": "[encoded data removed]"
          },
          "metadata": {
            "needs_background": "light"
          }
        }
      ]
    },
    {
      "cell_type": "code",
      "source": [
        "def chunks(x, size):\n",
        "    for i in range(0, len(x), size): \n",
        "        yield x[i:i + size]"
      ],
      "metadata": {
        "id": "9fC9qykm2fvX"
      },
      "execution_count": 45,
      "outputs": []
    },
    {
      "cell_type": "code",
      "source": [
        "print([i for i in range(10)])"
      ],
      "metadata": {
        "colab": {
          "base_uri": "https://localhost:8080/"
        },
        "id": "0_L5Lfl32t84",
        "outputId": "e6240365-bef4-46ca-e81a-b30df1953862"
      },
      "execution_count": 43,
      "outputs": [
        {
          "output_type": "stream",
          "name": "stdout",
          "text": [
            "[0, 1, 2, 3, 4, 5, 6, 7, 8, 9]\n"
          ]
        }
      ]
    },
    {
      "cell_type": "code",
      "source": [
        "%timeit -n 10 list(chunks([rand() for _ in range(7840)],10))"
      ],
      "metadata": {
        "colab": {
          "base_uri": "https://localhost:8080/"
        },
        "id": "tbFBZGFc1keU",
        "outputId": "4a743df9-2dec-451b-f33d-ff03c4304f61"
      },
      "execution_count": 46,
      "outputs": [
        {
          "output_type": "stream",
          "name": "stdout",
          "text": [
            "16.7 ms ± 4.04 ms per loop (mean ± std. dev. of 7 runs, 10 loops each)\n"
          ]
        }
      ]
    },
    {
      "cell_type": "code",
      "source": [
        "%timeit -n 10 torch.randn(784,10)"
      ],
      "metadata": {
        "colab": {
          "base_uri": "https://localhost:8080/"
        },
        "id": "7Z30Hxpf2KHa",
        "outputId": "c8d6a8dd-4587-4f75-e598-954aa0fbb5f2"
      },
      "execution_count": 47,
      "outputs": [
        {
          "output_type": "stream",
          "name": "stdout",
          "text": [
            "The slowest run took 16.73 times longer than the fastest. This could mean that an intermediate result is being cached.\n",
            "409 µs ± 530 µs per loop (mean ± std. dev. of 7 runs, 10 loops each)\n"
          ]
        }
      ]
    },
    {
      "cell_type": "code",
      "source": [],
      "metadata": {
        "id": "_r49FZlU3eYG"
      },
      "execution_count": null,
      "outputs": []
    }
  ]
}