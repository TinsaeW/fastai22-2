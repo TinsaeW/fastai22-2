{
  "nbformat": 4,
  "nbformat_minor": 0,
  "metadata": {
    "colab": {
      "provenance": [],
      "collapsed_sections": []
    },
    "kernelspec": {
      "name": "python3",
      "display_name": "Python 3"
    },
    "language_info": {
      "name": "python"
    }
  },
  "cells": [
    {
      "cell_type": "code",
      "execution_count": null,
      "metadata": {
        "id": "L4WHU657qYtX"
      },
      "outputs": [],
      "source": [
        "from pathlib import Path\n",
        "import pickle, gzip, math, os, time, shutil,matplotlib as mpl, matplotlib.pyplot as plt"
      ]
    },
    {
      "cell_type": "markdown",
      "source": [
        "# Get data"
      ],
      "metadata": {
        "id": "rdjxAc7ow2xy"
      }
    },
    {
      "cell_type": "code",
      "source": [
        "BASE_URL = \"http://fashion-mnist.s3-website.eu-central-1.amazonaws.com/\"\n",
        "\n",
        "TRAINING_IMAGES = \"train-images-idx3-ubyte.gz\"\n",
        "TRAINING_LABELS = \"train-labels-idx1-ubyte.gz\"\n",
        "TEST_IMAGES = \"t10k-images-idx3-ubyte.gz\"\n",
        "TEST_LABELS = \"t10k-labels-idx1-ubyte.gz\""
      ],
      "metadata": {
        "id": "X-kM4fxkw5EH"
      },
      "execution_count": null,
      "outputs": []
    },
    {
      "cell_type": "code",
      "source": [
        "PATH_DATA = Path(\"data\")\n",
        "PATH_DATA.mkdir(exist_ok=True)\n",
        "\n",
        "\n",
        "training_images_path = PATH_DATA/TRAINING_IMAGES\n",
        "training_labels_path = PATH_DATA/TRAINING_LABELS\n",
        "test_images_path = PATH_DATA/TEST_IMAGES\n",
        "test_labels_path = PATH_DATA/TEST_LABELS"
      ],
      "metadata": {
        "id": "gpCdtbIQyK_C"
      },
      "execution_count": null,
      "outputs": []
    },
    {
      "cell_type": "code",
      "source": [
        "from urllib.request import urlretrieve"
      ],
      "metadata": {
        "id": "COHQdhyh1uxI"
      },
      "execution_count": null,
      "outputs": []
    },
    {
      "cell_type": "code",
      "source": [
        "if not training_images_path.exists():\n",
        "  urlretrieve(BASE_URL+TRAINING_IMAGES, training_images_path)\n",
        "if not training_labels_path.exists():\n",
        "  urlretrieve(BASE_URL+TRAINING_LABELS, training_labels_path)\n",
        "if not test_images_path.exists():\n",
        "  urlretrieve(BASE_URL+TEST_IMAGES, test_images_path)\n",
        "if not test_labels_path.exists():\n",
        "  urlretrieve(BASE_URL+TEST_LABELS, test_labels_path)"
      ],
      "metadata": {
        "id": "KfuLQXc91xPk"
      },
      "execution_count": null,
      "outputs": []
    },
    {
      "cell_type": "code",
      "source": [
        "!ls -l data"
      ],
      "metadata": {
        "colab": {
          "base_uri": "https://localhost:8080/"
        },
        "id": "qfHXkN4M4ObX",
        "outputId": "5ba8a969-b524-4a79-8682-296ee458d7b9"
      },
      "execution_count": null,
      "outputs": [
        {
          "output_type": "stream",
          "name": "stdout",
          "text": [
            "total 30164\n",
            "-rw-r--r-- 1 root root  4422102 Oct 28 18:37 t10k-images-idx3-ubyte.gz\n",
            "-rw-r--r-- 1 root root     5148 Oct 28 18:37 t10k-labels-idx1-ubyte.gz\n",
            "-rw-r--r-- 1 root root 26421880 Oct 28 18:37 train-images-idx3-ubyte.gz\n",
            "-rw-r--r-- 1 root root    29515 Oct 28 18:37 train-labels-idx1-ubyte.gz\n"
          ]
        }
      ]
    },
    {
      "cell_type": "code",
      "source": [
        "import struct\n",
        "import array\n",
        "def parse_idx(path):\n",
        "  with gzip.open(path, 'rb') as f:\n",
        "    header = f.read(4)\n",
        "    \n",
        "    zeros, data_type, num_dimensions = struct.unpack('>HBB', header)\n",
        "    dimension_sizes = struct.unpack('>' + 'I' * num_dimensions, f.read(4 * num_dimensions))\n",
        "    \n",
        "\n",
        "    data = array.array('B', f.read())\n",
        "    data.byteswap()  # looks like array.array reads data as little endian\n",
        "\n",
        "  return list(data)\n",
        "\n",
        "def chunks(x, size):\n",
        "    for i in range(0, len(x), size): \n",
        "        yield x[i:i + size]"
      ],
      "metadata": {
        "id": "rWtpNbCS_HiY"
      },
      "execution_count": null,
      "outputs": []
    },
    {
      "cell_type": "code",
      "source": [
        "x_train = list(chunks(parse_idx(training_images_path),784))\n",
        "y_train = parse_idx(training_labels_path)\n",
        "\n",
        "x_test = list(chunks(parse_idx(test_images_path),784))\n",
        "y_test = parse_idx(test_labels_path)\n",
        "\n",
        "print((len(x_train), len(x_train[0])))\n",
        "print(len(y_train))\n",
        "\n",
        "print((len(x_test), len(x_test[0])))\n",
        "print(len(y_test))"
      ],
      "metadata": {
        "colab": {
          "base_uri": "https://localhost:8080/"
        },
        "id": "ZAuOu2gsjl-e",
        "outputId": "5b42a7d1-84c0-423c-a916-51f9a82c8b99"
      },
      "execution_count": null,
      "outputs": [
        {
          "output_type": "stream",
          "name": "stdout",
          "text": [
            "(60000, 784)\n",
            "60000\n",
            "(10000, 784)\n",
            "10000\n"
          ]
        }
      ]
    },
    {
      "cell_type": "code",
      "source": [
        "print((len(x_train), len(x_train[0])))\n",
        "print(len(y_train))\n",
        "\n",
        "print((len(x_test), len(x_test[0])))\n",
        "print(len(y_test))"
      ],
      "metadata": {
        "colab": {
          "base_uri": "https://localhost:8080/"
        },
        "id": "8_oT0DaVu5GC",
        "outputId": "2aea5748-bf03-425f-e003-f4cf32afed16"
      },
      "execution_count": null,
      "outputs": [
        {
          "output_type": "stream",
          "name": "stdout",
          "text": [
            "(60000, 784)\n",
            "60000\n",
            "(10000, 784)\n",
            "10000\n"
          ]
        }
      ]
    },
    {
      "cell_type": "code",
      "source": [
        "index_to_label = {\n",
        "    0: \"T-shirt/top\",\n",
        "    1: \"Trouser\",\n",
        "    2: \"Pullover\",\n",
        "    3: \"Dress\",\n",
        "    4: \"Coat\",\n",
        "    5: \"Sandal\",\n",
        "    6: \"Shirt\",\n",
        "    7: \"Sneaker\",\n",
        "    8: \"Bag\",\n",
        "    9: \"Ankle boot\"\n",
        "}\n",
        "\n",
        "list(map(lambda x: index_to_label[x], y_train[0:10]))"
      ],
      "metadata": {
        "colab": {
          "base_uri": "https://localhost:8080/"
        },
        "id": "cTvOzYpKodDs",
        "outputId": "9df35d05-83b6-4026-87a9-cdde52616cdc"
      },
      "execution_count": null,
      "outputs": [
        {
          "output_type": "execute_result",
          "data": {
            "text/plain": [
              "['Ankle boot',\n",
              " 'T-shirt/top',\n",
              " 'T-shirt/top',\n",
              " 'Dress',\n",
              " 'T-shirt/top',\n",
              " 'Pullover',\n",
              " 'Sneaker',\n",
              " 'Pullover',\n",
              " 'Sandal',\n",
              " 'Sandal']"
            ]
          },
          "metadata": {},
          "execution_count": 11
        }
      ]
    },
    {
      "cell_type": "code",
      "source": [
        "x_train[0][200:210]"
      ],
      "metadata": {
        "colab": {
          "base_uri": "https://localhost:8080/"
        },
        "id": "5EKvFRpJog29",
        "outputId": "21c93870-657d-4122-8cb8-3e1b4e78767d"
      },
      "execution_count": null,
      "outputs": [
        {
          "output_type": "execute_result",
          "data": {
            "text/plain": [
              "[0, 0, 0, 0, 0, 0, 0, 1, 0, 69]"
            ]
          },
          "metadata": {},
          "execution_count": 12
        }
      ]
    },
    {
      "cell_type": "markdown",
      "source": [
        "# Displaying the images"
      ],
      "metadata": {
        "id": "eW-x34qmHruR"
      }
    },
    {
      "cell_type": "code",
      "source": [
        "mpl.rcParams['image.cmap'] = 'gray'\n",
        "plt.imshow(list(chunks(x_train[1],28)))"
      ],
      "metadata": {
        "colab": {
          "base_uri": "https://localhost:8080/",
          "height": 282
        },
        "id": "69I4FEtlF9Kb",
        "outputId": "f192b959-f16a-4e10-b8ae-7a6be726b4e9"
      },
      "execution_count": null,
      "outputs": [
        {
          "output_type": "execute_result",
          "data": {
            "text/plain": [
              "<matplotlib.image.AxesImage at 0x7f661004ad90>"
            ]
          },
          "metadata": {},
          "execution_count": 13
        },
        {
          "output_type": "display_data",
          "data": {
            "text/plain": [
              "<Figure size 432x288 with 1 Axes>"
            ],
            "image/png": "[encoded data removed]"
          },
          "metadata": {
            "needs_background": "light"
          }
        }
      ]
    },
    {
      "cell_type": "code",
      "source": [
        "mpl.rcParams['image.cmap'] = 'gray'\n",
        "plt.imshow(list(chunks(x_train[8],28)))"
      ],
      "metadata": {
        "colab": {
          "base_uri": "https://localhost:8080/",
          "height": 282
        },
        "id": "zlYTWqOMLsXI",
        "outputId": "762d3803-dcd5-41f0-bc55-baa468502d77"
      },
      "execution_count": null,
      "outputs": [
        {
          "output_type": "execute_result",
          "data": {
            "text/plain": [
              "<matplotlib.image.AxesImage at 0x7f660947bf50>"
            ]
          },
          "metadata": {},
          "execution_count": 14
        },
        {
          "output_type": "display_data",
          "data": {
            "text/plain": [
              "<Figure size 432x288 with 1 Axes>"
            ],
            "image/png": "[encoded data removed]"
          },
          "metadata": {
            "needs_background": "light"
          }
        }
      ]
    },
    {
      "cell_type": "code",
      "source": [
        "class Matrix:\n",
        "  def __init__(self, xs):\n",
        "    self.xs = xs\n",
        "  def __getitem__(self, idx):\n",
        "    return self.xs[idx[0]][idx[1]]"
      ],
      "metadata": {
        "id": "672WPL5rO1mm"
      },
      "execution_count": null,
      "outputs": []
    },
    {
      "cell_type": "code",
      "source": [
        "img = list(chunks(x_train[1],28))"
      ],
      "metadata": {
        "id": "E95B5Oqk41Pq"
      },
      "execution_count": null,
      "outputs": []
    },
    {
      "cell_type": "code",
      "source": [
        "m = Matrix(img)"
      ],
      "metadata": {
        "id": "PuA6GuaC4dyL"
      },
      "execution_count": null,
      "outputs": []
    },
    {
      "cell_type": "code",
      "source": [
        "m[10,9]"
      ],
      "metadata": {
        "colab": {
          "base_uri": "https://localhost:8080/"
        },
        "id": "VmFv2uJb48IJ",
        "outputId": "9aabf23b-e350-45b4-a390-2b9d2b339ba7"
      },
      "execution_count": null,
      "outputs": [
        {
          "output_type": "execute_result",
          "data": {
            "text/plain": [
              "198"
            ]
          },
          "metadata": {},
          "execution_count": 23
        }
      ]
    },
    {
      "cell_type": "code",
      "source": [
        "import torch \n",
        "from torch import tensor "
      ],
      "metadata": {
        "id": "5BFlEdPc5BUi"
      },
      "execution_count": null,
      "outputs": []
    },
    {
      "cell_type": "code",
      "source": [
        "tns = tensor(img)"
      ],
      "metadata": {
        "id": "yEGnOWAc6FEs"
      },
      "execution_count": null,
      "outputs": []
    },
    {
      "cell_type": "code",
      "source": [
        "tns[10,9]"
      ],
      "metadata": {
        "colab": {
          "base_uri": "https://localhost:8080/"
        },
        "id": "ZbcYc0vG6POZ",
        "outputId": "57a83742-df7a-4060-eb32-99dd34a7dfad"
      },
      "execution_count": null,
      "outputs": [
        {
          "output_type": "execute_result",
          "data": {
            "text/plain": [
              "tensor(198)"
            ]
          },
          "metadata": {},
          "execution_count": 26
        }
      ]
    },
    {
      "cell_type": "code",
      "source": [
        "x_train, y_train, x_test, y_test = map(tensor, (x_train, y_train, x_test, y_test))"
      ],
      "metadata": {
        "id": "FPX762pr6Rvy"
      },
      "execution_count": null,
      "outputs": []
    },
    {
      "cell_type": "code",
      "source": [
        "print(x_train.shape)\n",
        "print(y_train.shape)\n",
        "\n",
        "print(x_test.shape)\n",
        "print(y_test.shape)"
      ],
      "metadata": {
        "colab": {
          "base_uri": "https://localhost:8080/"
        },
        "id": "k8Fp0ypD9tk4",
        "outputId": "230e5db0-c73b-409c-f1e5-48ee047e9c3a"
      },
      "execution_count": null,
      "outputs": [
        {
          "output_type": "stream",
          "name": "stdout",
          "text": [
            "torch.Size([60000, 784])\n",
            "torch.Size([60000])\n",
            "torch.Size([10000, 784])\n",
            "torch.Size([10000])\n"
          ]
        }
      ]
    },
    {
      "cell_type": "code",
      "source": [
        "x_train.type"
      ],
      "metadata": {
        "colab": {
          "base_uri": "https://localhost:8080/"
        },
        "id": "oTBjy-K8-NRP",
        "outputId": "16754f28-e1a3-40b3-c81e-4877dc47c1ab"
      },
      "execution_count": null,
      "outputs": [
        {
          "output_type": "execute_result",
          "data": {
            "text/plain": [
              "<function Tensor.type>"
            ]
          },
          "metadata": {},
          "execution_count": 30
        }
      ]
    },
    {
      "cell_type": "code",
      "source": [
        "imgs = x_train.reshape((-1,28,28))\n",
        "imgs.shape"
      ],
      "metadata": {
        "colab": {
          "base_uri": "https://localhost:8080/"
        },
        "id": "XK-cmsDo-UIz",
        "outputId": "b5bdb387-304a-4e55-b344-adcd99abc165"
      },
      "execution_count": null,
      "outputs": [
        {
          "output_type": "execute_result",
          "data": {
            "text/plain": [
              "torch.Size([60000, 28, 28])"
            ]
          },
          "metadata": {},
          "execution_count": 34
        }
      ]
    },
    {
      "cell_type": "code",
      "source": [
        "plt.imshow(imgs[0])"
      ],
      "metadata": {
        "colab": {
          "base_uri": "https://localhost:8080/",
          "height": 282
        },
        "id": "R8nICYTy_GuI",
        "outputId": "583897da-e204-4b69-e8cb-d2986426768c"
      },
      "execution_count": null,
      "outputs": [
        {
          "output_type": "execute_result",
          "data": {
            "text/plain": [
              "<matplotlib.image.AxesImage at 0x7f6609bcd910>"
            ]
          },
          "metadata": {},
          "execution_count": 36
        },
        {
          "output_type": "display_data",
          "data": {
            "text/plain": [
              "<Figure size 432x288 with 1 Axes>"
            ],
            "image/png": "[encoded data removed]"
          },
          "metadata": {
            "needs_background": "light"
          }
        }
      ]
    },
    {
      "cell_type": "code",
      "source": [],
      "metadata": {
        "id": "2W1NIDIn_fcr"
      },
      "execution_count": null,
      "outputs": []
    }
  ]
}